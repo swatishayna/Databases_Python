{
 "cells": [
  {
   "cell_type": "markdown",
   "metadata": {},
   "source": [
    "# Integrating SQL with PYTHON\n",
    "##### step1   :    intalling and importing mysql.connector module\n",
    "- to work in real world scenerio we must know how to integrate SQL with Python , since python allows us to connect with varioues databases like MYSQL,MongoDB , etc and to do this we must need to install and import mysql.connector module"
   ]
  },
  {
   "cell_type": "code",
   "execution_count": 1,
   "metadata": {},
   "outputs": [],
   "source": [
    "#for installation\n",
    "#!pip install mysql-connector-python\n",
    "# for importing mysql.connector -- \"connection\" is the alias\n",
    "import mysql.connector as connection"
   ]
  },
  {
   "cell_type": "markdown",
   "metadata": {},
   "source": [
    "##### step2 : creating an object of mysql.connector.connect() --- connection object\n",
    "- to establish connection between python (application) and database MYSQL we will create an object of mysql.connector.connect(), connect method of mysql.connector is used\n",
    "######  we need to pass following argument:\n",
    "- host      =  \"localhost\"     (database is available on local system, not on cloud)\n",
    "- user      =  \"root\"\n",
    "- passwd    =  \"yourpassword\" (keep it safe)\n",
    "- use_pure  =   True\n",
    "- database  =  \"optional- name of the database \""
   ]
  },
  {
   "cell_type": "code",
   "execution_count": 2,
   "metadata": {},
   "outputs": [
    {
     "name": "stdout",
     "output_type": "stream",
     "text": [
      "<mysql.connector.connection.MySQLConnection object at 0x000001EF63F08400>\n"
     ]
    }
   ],
   "source": [
    "mydb = connection.connect(host = \"localhost\", user = \"root\", passwd = \"1450\", use_pure = True)#connection object is created\n",
    "print(mydb)   # if the object gets created successfully , connection is established"
   ]
  },
  {
   "cell_type": "markdown",
   "metadata": {},
   "source": [
    "##### step3  : Create an object of mysql.connector.cursor()-----cursor object\n",
    "- object of mysql.connector.cursor() or connection object ,in other words, iis created to execute operations like SQL statements\n",
    "- once this cursor  object is created it will interact with MYSQL server (local host in this case )using object of mysql.connector.connect() or connection object\n",
    "##### Note: GOOD PRACTICE:  Everytime you execute  an sql statement(query) create new cursor object(name can be same) of the same connection"
   ]
  },
  {
   "cell_type": "code",
   "execution_count": 3,
   "metadata": {},
   "outputs": [],
   "source": [
    "cur = mydb.cursor()   # cursor object is created"
   ]
  },
  {
   "cell_type": "markdown",
   "metadata": {},
   "source": [
    "##### step4 :  execute the query using cursor object\n"
   ]
  },
  {
   "cell_type": "code",
   "execution_count": 4,
   "metadata": {},
   "outputs": [],
   "source": [
    "query = \"SHOW DATABASES\"\n",
    "cur.execute(query)  "
   ]
  },
  {
   "cell_type": "code",
   "execution_count": 5,
   "metadata": {},
   "outputs": [
    {
     "name": "stdout",
     "output_type": "stream",
     "text": [
      "('information_schema',)\n",
      "('mysql',)\n",
      "('performance_schema',)\n",
      "('sys',)\n",
      "('test',)\n"
     ]
    }
   ],
   "source": [
    "dbs = cur.fetchall()    #to print the available databases in your database\n",
    "for i in dbs:\n",
    "    print(i)"
   ]
  },
  {
   "cell_type": "markdown",
   "metadata": {},
   "source": [
    "###### step5  : close the connection using connection object"
   ]
  },
  {
   "cell_type": "code",
   "execution_count": 6,
   "metadata": {},
   "outputs": [],
   "source": [
    "mydb.close()"
   ]
  },
  {
   "cell_type": "code",
   "execution_count": null,
   "metadata": {},
   "outputs": [],
   "source": []
  }
 ],
 "metadata": {
  "kernelspec": {
   "display_name": "Python 3",
   "language": "python",
   "name": "python3"
  },
  "language_info": {
   "codemirror_mode": {
    "name": "ipython",
    "version": 3
   },
   "file_extension": ".py",
   "mimetype": "text/x-python",
   "name": "python",
   "nbconvert_exporter": "python",
   "pygments_lexer": "ipython3",
   "version": "3.8.8"
  }
 },
 "nbformat": 4,
 "nbformat_minor": 4
}
