{
 "cells": [
  {
   "cell_type": "code",
   "execution_count": 1,
   "metadata": {},
   "outputs": [
    {
     "name": "stdout",
     "output_type": "stream",
     "text": [
      "<mysql.connector.connection.MySQLConnection object at 0x0000020E3990FDF0>\n"
     ]
    }
   ],
   "source": [
    "#!pip install mysql-connector-python\n",
    "import mysql.connector as connection     #step1\n",
    "mydb = connection.connect(host = \"localhost\", user = \"root\", passwd = \"1450\", database = \"db2\" , use_pure = True)  #step2\n",
    "print(mydb) \n",
    "cur = mydb.cursor()   #step3"
   ]
  },
  {
   "cell_type": "markdown",
   "metadata": {},
   "source": [
    "## 1. Creating(create) a Table"
   ]
  },
  {
   "cell_type": "code",
   "execution_count": 2,
   "metadata": {},
   "outputs": [],
   "source": [
    "#using db2 database \n",
    "query = \"CREATE TABLE studentdetails(roll_no INT(10), fname VARCHAR(20), lname VARCHAR(20))\"\n",
    "cur.execute(query)"
   ]
  },
  {
   "cell_type": "markdown",
   "metadata": {},
   "source": [
    "## 2. Inserting(insert) into Table"
   ]
  },
  {
   "cell_type": "code",
   "execution_count": 3,
   "metadata": {},
   "outputs": [],
   "source": [
    "#tablename = studentdetails\n",
    "\n",
    "query = \"INSERT INTO studentdetails VALUES(%s , %s , %s)\"\n",
    "data1 = (1, \"John\", \"Mathew\")\n",
    "data2 = (2, \"Paul\", \"Walker\")\n",
    "data3 = (3, \"Matt\", \"Forbes\")\n",
    "data4 = (4, \"Elly\", \"Oscar\")\n",
    "cur = mydb.cursor()   #step3 repeat\n",
    "cur.execute(query , data1)\n",
    "cur.execute(query , data2)\n",
    "cur.execute(query , data3)\n",
    "cur.execute(query , data4)\n",
    "\n",
    "#to commit changes in database\n",
    "mydb.commit()"
   ]
  },
  {
   "cell_type": "markdown",
   "metadata": {},
   "source": [
    "## 3. Deleting(delete) from table"
   ]
  },
  {
   "cell_type": "code",
   "execution_count": 4,
   "metadata": {},
   "outputs": [],
   "source": [
    "#tablename = studentdetails\n",
    "cur = mydb.cursor()   #step3 repeat\n",
    "query = \"DELETE FROM studentdetails WHERE roll_no = 1\"\n",
    "cur.execute(query)\n",
    "\n",
    "#to commit changes in database\n",
    "mydb.commit()"
   ]
  },
  {
   "cell_type": "markdown",
   "metadata": {},
   "source": [
    "## 4. Viewing(select) Data from Table"
   ]
  },
  {
   "cell_type": "code",
   "execution_count": 5,
   "metadata": {},
   "outputs": [
    {
     "name": "stdout",
     "output_type": "stream",
     "text": [
      "True\n",
      "(2, 'Paul', 'Walker')\n",
      "(3, 'Matt', 'Forbes')\n",
      "(4, 'Elly', 'Oscar')\n"
     ]
    }
   ],
   "source": [
    "print(mydb.is_connected())    # to check if the connection exits\n",
    "#tablename = studentdetails\n",
    "cur = mydb.cursor()   #step3 repeat\n",
    "query = \"SELECT * FROM studentdetails\"\n",
    "cur.execute(query)\n",
    "a = cur.fetchall()\n",
    "for i in a:\n",
    "    print(i)\n"
   ]
  },
  {
   "cell_type": "markdown",
   "metadata": {},
   "source": [
    "## 5.Updating(update) the table"
   ]
  },
  {
   "cell_type": "code",
   "execution_count": 6,
   "metadata": {},
   "outputs": [
    {
     "name": "stdout",
     "output_type": "stream",
     "text": [
      "(2, 'Paul', 'Walker')\n",
      "(3, 'Matt', 'Forbes')\n",
      "(4, 'Johnson', 'Oscar')\n"
     ]
    }
   ],
   "source": [
    "#tablename = studentdetails\n",
    "cur = mydb.cursor()   #step3 repeat\n",
    "query = \"UPDATE studentdetails SET fname = 'Johnson' WHERE roll_no = 4\"\n",
    "cur.execute(query)\n",
    "\n",
    "#to commit changes in database\n",
    "mydb.commit()\n",
    "\n",
    "\n",
    "cur = mydb.cursor()   #step3 repeat\n",
    "query = \"SELECT * FROM studentdetails\"\n",
    "cur.execute(query)\n",
    "a = cur.fetchall()\n",
    "for i in a:\n",
    "    print(i)"
   ]
  },
  {
   "cell_type": "code",
   "execution_count": null,
   "metadata": {},
   "outputs": [],
   "source": []
  }
 ],
 "metadata": {
  "kernelspec": {
   "display_name": "Python 3",
   "language": "python",
   "name": "python3"
  },
  "language_info": {
   "codemirror_mode": {
    "name": "ipython",
    "version": 3
   },
   "file_extension": ".py",
   "mimetype": "text/x-python",
   "name": "python",
   "nbconvert_exporter": "python",
   "pygments_lexer": "ipython3",
   "version": "3.8.8"
  }
 },
 "nbformat": 4,
 "nbformat_minor": 4
}
