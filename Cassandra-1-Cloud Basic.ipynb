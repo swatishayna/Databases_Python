{
 "cells": [
  {
   "cell_type": "code",
   "execution_count": 1,
   "metadata": {},
   "outputs": [],
   "source": [
    "#!pip install cassandra-driver"
   ]
  },
  {
   "cell_type": "markdown",
   "metadata": {},
   "source": [
    "### Step1: Connection with cloud cassandra"
   ]
  },
  {
   "cell_type": "code",
   "execution_count": 18,
   "metadata": {},
   "outputs": [
    {
     "name": "stdout",
     "output_type": "stream",
     "text": [
      "4.0.0.6813\n"
     ]
    }
   ],
   "source": [
    "from cassandra.cluster import Cluster\n",
    "from cassandra.auth import PlainTextAuthProvider\n",
    "\n",
    "cloud_config= {\n",
    "        'secure_connect_bundle': 'F:\\data science\\ineuron\\Databases\\Cassandra\\secure-connect-test1.zip'\n",
    "}\n",
    "auth_provider = PlainTextAuthProvider('xzwnPGxiZZZdvZHEGQeUjxEM', 'Iwr4DW-qeDFYgf,x1BtjHufBMgZE59r7pbHHeIvHPRx0p_h3OHLsssxDTU3_L_yK4DF0bouiFg0.2vxr.Z,1Dp3i5Kx2xZ4p7qqvINt,sJEco0fgMkRrZ7UaCf7-x2N2')\n",
    "cluster = Cluster(cloud=cloud_config, auth_provider=auth_provider)\n",
    "session = cluster.connect()\n",
    "\n",
    "row = session.execute(\"select release_version from system.local\").one()\n",
    "if row:\n",
    "    print(row[0])\n",
    "else:\n",
    "    print(\"An error occurred.\")"
   ]
  },
  {
   "cell_type": "markdown",
   "metadata": {},
   "source": [
    "### 2. Show Available keyspaces"
   ]
  },
  {
   "cell_type": "code",
   "execution_count": 3,
   "metadata": {},
   "outputs": [
    {
     "name": "stdout",
     "output_type": "stream",
     "text": [
      "data_endpoint_auth\n",
      "abc\n",
      "system_auth\n",
      "system_schema\n",
      "student\n",
      "system\n",
      "datastax_sla\n",
      "system_traces\n"
     ]
    }
   ],
   "source": [
    "row = session.execute(\"SELECT * FROM system_schema.keyspaces\")\n",
    "for i in row:\n",
    "    print(i[0])"
   ]
  },
  {
   "cell_type": "markdown",
   "metadata": {},
   "source": [
    "## CREATE TABLE"
   ]
  },
  {
   "cell_type": "code",
   "execution_count": 4,
   "metadata": {},
   "outputs": [],
   "source": [
    "session.execute(\"USE STUDENT\")\n",
    "row = session.execute(\"CREATE TABLE STUDENTDETAILS(roll_no int PRIMARY KEY, fname text, lname text)\")"
   ]
  },
  {
   "cell_type": "code",
   "execution_count": 5,
   "metadata": {},
   "outputs": [
    {
     "name": "stdout",
     "output_type": "stream",
     "text": [
      "['roll_no', 'fname', 'lname']\n",
      "None\n",
      "['roll_no', 'fname', 'lname'] [<class 'cassandra.cqltypes.Int32Type'>, <class 'cassandra.cqltypes.VarcharType'>, <class 'cassandra.cqltypes.VarcharType'>]\n",
      "('roll_no', <class 'cassandra.cqltypes.Int32Type'>)\n",
      "('fname', <class 'cassandra.cqltypes.VarcharType'>)\n",
      "('lname', <class 'cassandra.cqltypes.VarcharType'>)\n"
     ]
    }
   ],
   "source": [
    "#verification\n",
    "row = session.execute(\"select * from studentdetails\")\n",
    "print(row.column_names)\n",
    "print(row.one())\n",
    "print(row.column_names,row.column_types)\n",
    "for i in zip(row.column_names,row.column_types):\n",
    "    print(i)"
   ]
  },
  {
   "cell_type": "code",
   "execution_count": 6,
   "metadata": {},
   "outputs": [],
   "source": [
    "session.execute(\"USE STUDENT\")\n",
    "row = session.execute(\"CREATE TABLE STUDENTDETAILS1(roll_no int PRIMARY KEY, fname text, lname text)\")"
   ]
  },
  {
   "cell_type": "markdown",
   "metadata": {},
   "source": [
    "## Drop Table"
   ]
  },
  {
   "cell_type": "code",
   "execution_count": 7,
   "metadata": {},
   "outputs": [
    {
     "data": {
      "text/plain": [
       "<cassandra.cluster.ResultSet at 0x17bbf45aeb0>"
      ]
     },
     "execution_count": 7,
     "metadata": {},
     "output_type": "execute_result"
    }
   ],
   "source": [
    "session.execute(\"DROP Table studentdetails1\")"
   ]
  },
  {
   "cell_type": "markdown",
   "metadata": {},
   "source": [
    "## Alter Table-add a column"
   ]
  },
  {
   "cell_type": "code",
   "execution_count": 8,
   "metadata": {},
   "outputs": [
    {
     "data": {
      "text/plain": [
       "<cassandra.cluster.ResultSet at 0x17bbf3b6040>"
      ]
     },
     "execution_count": 8,
     "metadata": {},
     "output_type": "execute_result"
    }
   ],
   "source": [
    "session.execute(\"use student\")\n",
    "session.execute(\"ALTER TABLE studentdetails ADD contact_no int\")"
   ]
  },
  {
   "cell_type": "code",
   "execution_count": 9,
   "metadata": {},
   "outputs": [
    {
     "name": "stdout",
     "output_type": "stream",
     "text": [
      "['roll_no', 'contact_no', 'fname', 'lname']\n"
     ]
    }
   ],
   "source": [
    "#verification\n",
    "row = session.execute(\"select * from studentdetails\")\n",
    "print(row.column_names)"
   ]
  },
  {
   "cell_type": "markdown",
   "metadata": {},
   "source": [
    "##  Alter Table-drop a column"
   ]
  },
  {
   "cell_type": "code",
   "execution_count": 10,
   "metadata": {},
   "outputs": [
    {
     "data": {
      "text/plain": [
       "<cassandra.cluster.ResultSet at 0x17bbf45adc0>"
      ]
     },
     "execution_count": 10,
     "metadata": {},
     "output_type": "execute_result"
    }
   ],
   "source": [
    "session.execute(\"use student\")\n",
    "session.execute(\"ALTER TABLE studentdetails drop contact_no \")"
   ]
  },
  {
   "cell_type": "code",
   "execution_count": 11,
   "metadata": {},
   "outputs": [
    {
     "name": "stdout",
     "output_type": "stream",
     "text": [
      "['roll_no', 'fname', 'lname']\n"
     ]
    }
   ],
   "source": [
    "#verification\n",
    "row = session.execute(\"select * from studentdetails\")\n",
    "print(row.column_names)"
   ]
  },
  {
   "cell_type": "markdown",
   "metadata": {},
   "source": [
    "## Insert data"
   ]
  },
  {
   "cell_type": "code",
   "execution_count": 12,
   "metadata": {},
   "outputs": [
    {
     "data": {
      "text/plain": [
       "<cassandra.cluster.ResultSet at 0x17bbf45afd0>"
      ]
     },
     "execution_count": 12,
     "metadata": {},
     "output_type": "execute_result"
    }
   ],
   "source": [
    "query = \"INSERT INTO studentdetails(roll_no,fname,lname)values(1,'joe','peterson')\"\n",
    "session.execute(query)"
   ]
  },
  {
   "cell_type": "code",
   "execution_count": 13,
   "metadata": {},
   "outputs": [
    {
     "data": {
      "text/plain": [
       "<cassandra.cluster.ResultSet at 0x17bbdb941c0>"
      ]
     },
     "execution_count": 13,
     "metadata": {},
     "output_type": "execute_result"
    }
   ],
   "source": [
    "query = \"INSERT INTO studentdetails(roll_no,fname,lname)values(2,'mathew','forbes')\"\n",
    "session.execute(query)"
   ]
  },
  {
   "cell_type": "code",
   "execution_count": 14,
   "metadata": {},
   "outputs": [
    {
     "data": {
      "text/plain": [
       "<cassandra.cluster.ResultSet at 0x17bbf3c3a30>"
      ]
     },
     "execution_count": 14,
     "metadata": {},
     "output_type": "execute_result"
    }
   ],
   "source": [
    "query = \"INSERT INTO studentdetails(roll_no,fname,lname)values(3,'emily','bennett')\"\n",
    "session.execute(query)"
   ]
  },
  {
   "cell_type": "code",
   "execution_count": 15,
   "metadata": {},
   "outputs": [
    {
     "name": "stdout",
     "output_type": "stream",
     "text": [
      "Row(roll_no=1, fname='joe', lname='peterson')\n",
      "Row(roll_no=2, fname='mathew', lname='forbes')\n",
      "Row(roll_no=3, fname='emily', lname='bennett')\n"
     ]
    }
   ],
   "source": [
    "#verification\n",
    "row = session.execute(\"select * from studentdetails\")\n",
    "for i in row.all():\n",
    "    print(i)   "
   ]
  },
  {
   "cell_type": "code",
   "execution_count": 16,
   "metadata": {},
   "outputs": [
    {
     "data": {
      "text/plain": [
       "[Row(roll_no=1, fname='joe'),\n",
       " Row(roll_no=2, fname='mathew'),\n",
       " Row(roll_no=3, fname='emily')]"
      ]
     },
     "execution_count": 16,
     "metadata": {},
     "output_type": "execute_result"
    }
   ],
   "source": [
    "row = session.execute(\"select roll_no,fname from studentdetails\")\n",
    "row.all()"
   ]
  },
  {
   "cell_type": "markdown",
   "metadata": {},
   "source": [
    "## Truncate Table"
   ]
  },
  {
   "cell_type": "code",
   "execution_count": 19,
   "metadata": {},
   "outputs": [
    {
     "data": {
      "text/plain": [
       "<cassandra.cluster.ResultSet at 0x17bbf55f190>"
      ]
     },
     "execution_count": 19,
     "metadata": {},
     "output_type": "execute_result"
    }
   ],
   "source": [
    "session.execute(\"Use student\")\n",
    "query = \"Truncate studentdetails\"\n",
    "session.execute(query)"
   ]
  },
  {
   "cell_type": "code",
   "execution_count": 20,
   "metadata": {},
   "outputs": [
    {
     "data": {
      "text/plain": [
       "[]"
      ]
     },
     "execution_count": 20,
     "metadata": {},
     "output_type": "execute_result"
    }
   ],
   "source": [
    "#verification\n",
    "row = session.execute(\"select * from studentdetails\")\n",
    "row.all()"
   ]
  },
  {
   "cell_type": "raw",
   "metadata": {},
   "source": [
    "Populating studentdetails table"
   ]
  },
  {
   "cell_type": "code",
   "execution_count": 21,
   "metadata": {},
   "outputs": [
    {
     "data": {
      "text/plain": [
       "<cassandra.cluster.ResultSet at 0x17bbf542c40>"
      ]
     },
     "execution_count": 21,
     "metadata": {},
     "output_type": "execute_result"
    }
   ],
   "source": [
    "query = \"USE student\"\n",
    "session.execute(query)\n",
    "query = \"INSERT INTO studentdetails(roll_no,fname,lname)values(1,'joe','peterson')\"\n",
    "session.execute(query)\n",
    "query = \"INSERT INTO studentdetails(roll_no,fname,lname)values(2,'mathew','forbes')\"\n",
    "session.execute(query)\n",
    "query = \"INSERT INTO studentdetails(roll_no,fname,lname)values(3,'emily','bennett')\"\n",
    "session.execute(query)"
   ]
  },
  {
   "cell_type": "markdown",
   "metadata": {},
   "source": [
    "## Update "
   ]
  },
  {
   "cell_type": "code",
   "execution_count": 22,
   "metadata": {},
   "outputs": [
    {
     "data": {
      "text/plain": [
       "<cassandra.cluster.ResultSet at 0x17bbf464700>"
      ]
     },
     "execution_count": 22,
     "metadata": {},
     "output_type": "execute_result"
    }
   ],
   "source": [
    "query = \"UPDATE studentdetails SET lname = 'clarks' where roll_no=2\"\n",
    "session.execute(query)"
   ]
  },
  {
   "cell_type": "code",
   "execution_count": 23,
   "metadata": {},
   "outputs": [
    {
     "data": {
      "text/plain": [
       "[Row(roll_no=1, fname='joe', lname='peterson'),\n",
       " Row(roll_no=2, fname='mathew', lname='clarks'),\n",
       " Row(roll_no=3, fname='emily', lname='bennett')]"
      ]
     },
     "execution_count": 23,
     "metadata": {},
     "output_type": "execute_result"
    }
   ],
   "source": [
    "#verification\n",
    "query = \"Select * from studentdetails\"\n",
    "row= session.execute(query)\n",
    "row.all()"
   ]
  },
  {
   "cell_type": "markdown",
   "metadata": {},
   "source": [
    "# Batch\n",
    "- BATCH is used to execute multiple modification statements (insert, update, delete) simultaneously. It is very useful when you have to update some column as well as delete some of the existing.\n",
    "-  only create, update, and delete rows with a batch query, attempting to read rows out of the database with a batch query will fail."
   ]
  },
  {
   "cell_type": "code",
   "execution_count": 24,
   "metadata": {},
   "outputs": [
    {
     "data": {
      "text/plain": [
       "<cassandra.cluster.ResultSet at 0x17bbf5b0370>"
      ]
     },
     "execution_count": 24,
     "metadata": {},
     "output_type": "execute_result"
    }
   ],
   "source": [
    "session.execute(\"USE STUDENT\")\n",
    "query = \"BEGIN BATCH INSERT INTO studentdetails(roll_no,fname,lname) values(4,'joeye','john');\" + \" UPDATE studentdetails SET fname = 'joey' where roll_no = 1;\" + \"DELETE FROM studentdetails WHERE roll_no = 2;\" +   \"APPLY BATCH;\"\n",
    "session.execute(query)"
   ]
  },
  {
   "cell_type": "code",
   "execution_count": 25,
   "metadata": {},
   "outputs": [
    {
     "data": {
      "text/plain": [
       "[Row(roll_no=1, fname='joey', lname='peterson'),\n",
       " Row(roll_no=4, fname='joeye', lname='john'),\n",
       " Row(roll_no=3, fname='emily', lname='bennett')]"
      ]
     },
     "execution_count": 25,
     "metadata": {},
     "output_type": "execute_result"
    }
   ],
   "source": [
    "query = \"SELECT * from studentdetails\"\n",
    "row= session.execute(query)\n",
    "row.all()"
   ]
  },
  {
   "cell_type": "code",
   "execution_count": 26,
   "metadata": {},
   "outputs": [
    {
     "data": {
      "text/plain": [
       "<cassandra.cluster.ResultSet at 0x17bbf5164f0>"
      ]
     },
     "execution_count": 26,
     "metadata": {},
     "output_type": "execute_result"
    }
   ],
   "source": [
    "query = \"BEGIN BATCH INSERT INTO studentdetails(roll_no,fname,lname)values(5,'Paul', 'Walker')\" + \"INSERT INTO studentdetails(roll_no,fname,lname)values(6, 'Ricky', 'Ponting')\" + \"INSERT INTO studentdetails(roll_no,fname,lname)values(7,'asim','akram')\" + \"INSERT INTO studentdetails(roll_no,fname,lname)values(8,'sunil', 'gawaskar')\" + \"APPLY BATCH;\"\n",
    "session.execute(query)"
   ]
  },
  {
   "cell_type": "code",
   "execution_count": 27,
   "metadata": {},
   "outputs": [
    {
     "data": {
      "text/plain": [
       "[Row(roll_no=5, fname='Paul', lname='Walker'),\n",
       " Row(roll_no=1, fname='joey', lname='peterson'),\n",
       " Row(roll_no=8, fname='sunil', lname='gawaskar'),\n",
       " Row(roll_no=4, fname='joeye', lname='john'),\n",
       " Row(roll_no=7, fname='asim', lname='akram'),\n",
       " Row(roll_no=6, fname='Ricky', lname='Ponting'),\n",
       " Row(roll_no=3, fname='emily', lname='bennett')]"
      ]
     },
     "execution_count": 27,
     "metadata": {},
     "output_type": "execute_result"
    }
   ],
   "source": [
    "query = \"SELECT * from studentdetails\"\n",
    "row= session.execute(query)\n",
    "row.all()"
   ]
  },
  {
   "cell_type": "markdown",
   "metadata": {},
   "source": [
    "INSERT: user input and for loop"
   ]
  },
  {
   "cell_type": "code",
   "execution_count": 28,
   "metadata": {},
   "outputs": [
    {
     "name": "stdout",
     "output_type": "stream",
     "text": [
      "Enter roll_no here:11\n",
      "Enter firstname here:Roger\n",
      "Enter Lastname here: federer\n",
      "Enter roll_no here:12\n",
      "Enter firstname here:Andre\n",
      "Enter Lastname here: agassi\n",
      "Enter roll_no here:13\n",
      "Enter firstname here:Anurag\n",
      "Enter Lastname here: kashyap\n",
      "Enter roll_no here:14\n",
      "Enter firstname here:Karan\n",
      "Enter Lastname here: Johar\n",
      "Enter roll_no here:15\n",
      "Enter firstname here:Julie\n",
      "Enter Lastname here: Plec\n",
      "Enter roll_no here:16\n",
      "Enter firstname here:Graham\n",
      "Enter Lastname here: Bell\n",
      "Enter roll_no here:17\n",
      "Enter firstname here:Kat\n",
      "Enter Lastname here: Graham\n",
      "Enter roll_no here:18\n",
      "Enter firstname here:Sophie\n",
      "Enter Lastname here: Turner\n",
      "Enter roll_no here:19\n",
      "Enter firstname here:Arya\n",
      "Enter Lastname here: Stark\n",
      "Enter roll_no here:20\n",
      "Enter firstname here:James\n",
      "Enter Lastname here: Lannister\n"
     ]
    }
   ],
   "source": [
    "query = \"INSERT INTO studentdetails(roll_no,fname,lname)values(%s,%s,%s);\" \n",
    "for i in range(10):\n",
    "    a1=int(input(\"Enter roll_no here:\"))\n",
    "    b1=input(\"Enter firstname here:\")\n",
    "    c1=input(\"Enter Lastname here: \")\n",
    "    data= (a1,b1,c1)\n",
    "\n",
    "    session.execute(query,data)"
   ]
  },
  {
   "cell_type": "raw",
   "metadata": {},
   "source": [
    "insert: function"
   ]
  },
  {
   "cell_type": "code",
   "execution_count": 30,
   "metadata": {},
   "outputs": [],
   "source": [
    "def insertcommand(rollno,firstname,lastname):\n",
    "    rollno = int(rollno)\n",
    "    try:\n",
    "        data= (rollno,firstname,lastname)\n",
    "        query = \"INSERT INTO studentdetails(roll_no,fname,lname)values(%s,%s,%s);\" \n",
    "        session.execute(query,data)\n",
    "    except:\n",
    "        print(\"Cant be inserted\")\n",
    "    \n",
    "insertcommand(9,'rishabh','pant')\n",
    "    "
   ]
  },
  {
   "cell_type": "code",
   "execution_count": 31,
   "metadata": {},
   "outputs": [
    {
     "data": {
      "text/plain": [
       "[Row(roll_no=5, fname='Paul', lname='Walker'),\n",
       " Row(roll_no=16, fname='Graham', lname='Bell'),\n",
       " Row(roll_no=13, fname='Anurag', lname='kashyap'),\n",
       " Row(roll_no=11, fname='Roger', lname='federer'),\n",
       " Row(roll_no=1, fname='joey', lname='peterson'),\n",
       " Row(roll_no=19, fname='Arya', lname='Stark'),\n",
       " Row(roll_no=8, fname='sunil', lname='gawaskar'),\n",
       " Row(roll_no=4, fname='joeye', lname='john'),\n",
       " Row(roll_no=18, fname='Sophie', lname='Turner'),\n",
       " Row(roll_no=15, fname='Julie', lname='Plec'),\n",
       " Row(roll_no=20, fname='James', lname='Lannister'),\n",
       " Row(roll_no=7, fname='asim', lname='akram'),\n",
       " Row(roll_no=6, fname='Ricky', lname='Ponting'),\n",
       " Row(roll_no=9, fname='rishabh', lname='pant'),\n",
       " Row(roll_no=14, fname='Karan', lname='Johar'),\n",
       " Row(roll_no=17, fname='Kat', lname='Graham'),\n",
       " Row(roll_no=12, fname='Andre', lname='agassi'),\n",
       " Row(roll_no=3, fname='emily', lname='bennett')]"
      ]
     },
     "execution_count": 31,
     "metadata": {},
     "output_type": "execute_result"
    }
   ],
   "source": [
    "query = \"SELECT * from studentdetails\"\n",
    "row= session.execute(query)\n",
    "row.all()"
   ]
  },
  {
   "cell_type": "raw",
   "metadata": {},
   "source": [
    "Creating a total marks column in studentdetails and updating with total marks "
   ]
  },
  {
   "cell_type": "code",
   "execution_count": 32,
   "metadata": {},
   "outputs": [
    {
     "data": {
      "text/plain": [
       "<cassandra.cluster.ResultSet at 0x17bbf464f10>"
      ]
     },
     "execution_count": 32,
     "metadata": {},
     "output_type": "execute_result"
    }
   ],
   "source": [
    "query = \"ALTER table studentdetails add TOTAL_Marks int\"\n",
    "session.execute(query)"
   ]
  },
  {
   "cell_type": "code",
   "execution_count": 33,
   "metadata": {},
   "outputs": [
    {
     "data": {
      "text/plain": [
       "['roll_no', 'fname', 'lname', 'total_marks']"
      ]
     },
     "execution_count": 33,
     "metadata": {},
     "output_type": "execute_result"
    }
   ],
   "source": [
    "#verification\n",
    "query = \"SELECT * from studentdetails\"\n",
    "row= session.execute(query)\n",
    "row.column_names"
   ]
  },
  {
   "cell_type": "code",
   "execution_count": 34,
   "metadata": {},
   "outputs": [
    {
     "name": "stdout",
     "output_type": "stream",
     "text": [
      "Roll_no 5 and student name is  Paul\n",
      "Enter marks for the student76\n",
      "Roll_no 16 and student name is  Graham\n",
      "Enter marks for the student56\n",
      "Roll_no 13 and student name is  Anurag\n",
      "Enter marks for the student65\n",
      "Roll_no 11 and student name is  Roger\n",
      "Enter marks for the student78\n",
      "Roll_no 1 and student name is  joey\n",
      "Enter marks for the student56\n",
      "Roll_no 19 and student name is  Arya\n",
      "Enter marks for the student98\n",
      "Roll_no 8 and student name is  sunil\n",
      "Enter marks for the student76\n",
      "Roll_no 4 and student name is  joeye\n",
      "Enter marks for the student45\n",
      "Roll_no 18 and student name is  Sophie\n",
      "Enter marks for the student98\n",
      "Roll_no 15 and student name is  Julie\n",
      "Enter marks for the student100\n",
      "Roll_no 20 and student name is  James\n",
      "Enter marks for the student23\n",
      "Roll_no 7 and student name is  asim\n",
      "Enter marks for the student34\n",
      "Roll_no 6 and student name is  Ricky\n",
      "Enter marks for the student78\n",
      "Roll_no 9 and student name is  rishabh\n",
      "Enter marks for the student89\n",
      "Roll_no 14 and student name is  Karan\n",
      "Enter marks for the student76\n",
      "Roll_no 17 and student name is  Kat\n",
      "Enter marks for the student98\n",
      "Roll_no 12 and student name is  Andre\n",
      "Enter marks for the student99\n",
      "Roll_no 3 and student name is  emily\n",
      "Enter marks for the student88\n"
     ]
    }
   ],
   "source": [
    "query = \"SELECT * from studentdetails\"\n",
    "row= session.execute(query)\n",
    "\n",
    "query = \"UPDATE studentdetails SET total_marks = %s WHERE roll_no = %s\"\n",
    "for i in row.all():  \n",
    "    print(\"Roll_no\",i[0], \"and student name is \",i[1])\n",
    "    total = int(input(\"Enter marks for the student\"))\n",
    "    data = (total,i[0])\n",
    "    session.execute(query,data)\n",
    "    "
   ]
  },
  {
   "cell_type": "code",
   "execution_count": 35,
   "metadata": {},
   "outputs": [
    {
     "data": {
      "text/plain": [
       "[Row(roll_no=5, fname='Paul', lname='Walker', total_marks=76),\n",
       " Row(roll_no=16, fname='Graham', lname='Bell', total_marks=56),\n",
       " Row(roll_no=13, fname='Anurag', lname='kashyap', total_marks=65),\n",
       " Row(roll_no=11, fname='Roger', lname='federer', total_marks=78),\n",
       " Row(roll_no=1, fname='joey', lname='peterson', total_marks=56),\n",
       " Row(roll_no=19, fname='Arya', lname='Stark', total_marks=98),\n",
       " Row(roll_no=8, fname='sunil', lname='gawaskar', total_marks=76),\n",
       " Row(roll_no=4, fname='joeye', lname='john', total_marks=45),\n",
       " Row(roll_no=18, fname='Sophie', lname='Turner', total_marks=98),\n",
       " Row(roll_no=15, fname='Julie', lname='Plec', total_marks=100),\n",
       " Row(roll_no=20, fname='James', lname='Lannister', total_marks=23),\n",
       " Row(roll_no=7, fname='asim', lname='akram', total_marks=34),\n",
       " Row(roll_no=6, fname='Ricky', lname='Ponting', total_marks=78),\n",
       " Row(roll_no=9, fname='rishabh', lname='pant', total_marks=89),\n",
       " Row(roll_no=14, fname='Karan', lname='Johar', total_marks=76),\n",
       " Row(roll_no=17, fname='Kat', lname='Graham', total_marks=98),\n",
       " Row(roll_no=12, fname='Andre', lname='agassi', total_marks=99),\n",
       " Row(roll_no=3, fname='emily', lname='bennett', total_marks=88)]"
      ]
     },
     "execution_count": 35,
     "metadata": {},
     "output_type": "execute_result"
    }
   ],
   "source": [
    "#verification\n",
    "query = \"SELECT * from studentdetails\"\n",
    "row= session.execute(query)\n",
    "row.all()"
   ]
  },
  {
   "cell_type": "markdown",
   "metadata": {},
   "source": [
    "## Aggregation\n",
    "- sum      = sum()\n",
    "- average  = avg()\n",
    "- minimum  = min()\n",
    "- maximum  = max()\n",
    "- count    = count()"
   ]
  },
  {
   "cell_type": "code",
   "execution_count": 36,
   "metadata": {},
   "outputs": [
    {
     "data": {
      "text/plain": [
       "Row(system_sum_total_marks=1333)"
      ]
     },
     "execution_count": 36,
     "metadata": {},
     "output_type": "execute_result"
    }
   ],
   "source": [
    "query = \"Select sum(total_marks) from studentdetails\"\n",
    "row = session.execute(query)\n",
    "row.one()"
   ]
  },
  {
   "cell_type": "code",
   "execution_count": 37,
   "metadata": {},
   "outputs": [
    {
     "data": {
      "text/plain": [
       "Row(system_avg_total_marks=74)"
      ]
     },
     "execution_count": 37,
     "metadata": {},
     "output_type": "execute_result"
    }
   ],
   "source": [
    "query = \"Select avg(total_marks) from studentdetails\"\n",
    "row = session.execute(query)\n",
    "row.one()"
   ]
  },
  {
   "cell_type": "code",
   "execution_count": 38,
   "metadata": {},
   "outputs": [
    {
     "data": {
      "text/plain": [
       "Row(system_min_total_marks=23)"
      ]
     },
     "execution_count": 38,
     "metadata": {},
     "output_type": "execute_result"
    }
   ],
   "source": [
    "query = \"Select min(total_marks) from studentdetails\"\n",
    "row = session.execute(query)\n",
    "row.one()"
   ]
  },
  {
   "cell_type": "code",
   "execution_count": 39,
   "metadata": {},
   "outputs": [
    {
     "data": {
      "text/plain": [
       "Row(system_max_total_marks=100)"
      ]
     },
     "execution_count": 39,
     "metadata": {},
     "output_type": "execute_result"
    }
   ],
   "source": [
    "query = \"Select max(total_marks) from studentdetails\"\n",
    "row = session.execute(query)\n",
    "row.one()"
   ]
  },
  {
   "cell_type": "code",
   "execution_count": 40,
   "metadata": {},
   "outputs": [
    {
     "data": {
      "text/plain": [
       "Row(system_count_total_marks=18)"
      ]
     },
     "execution_count": 40,
     "metadata": {},
     "output_type": "execute_result"
    }
   ],
   "source": [
    "query = \"Select count(total_marks) from studentdetails\"\n",
    "row = session.execute(query)\n",
    "row.one()"
   ]
  },
  {
   "cell_type": "code",
   "execution_count": 41,
   "metadata": {},
   "outputs": [
    {
     "data": {
      "text/plain": [
       "Row(count=18)"
      ]
     },
     "execution_count": 41,
     "metadata": {},
     "output_type": "execute_result"
    }
   ],
   "source": [
    "query = \"Select count(*) from studentdetails\"\n",
    "row = session.execute(query)\n",
    "row.one()"
   ]
  },
  {
   "cell_type": "markdown",
   "metadata": {},
   "source": [
    "## Allow Filtering\n"
   ]
  },
  {
   "cell_type": "code",
   "execution_count": 42,
   "metadata": {},
   "outputs": [
    {
     "data": {
      "text/plain": [
       "[Row(roll_no=5, fname='Paul', lname='Walker', total_marks=76),\n",
       " Row(roll_no=11, fname='Roger', lname='federer', total_marks=78),\n",
       " Row(roll_no=19, fname='Arya', lname='Stark', total_marks=98),\n",
       " Row(roll_no=8, fname='sunil', lname='gawaskar', total_marks=76),\n",
       " Row(roll_no=18, fname='Sophie', lname='Turner', total_marks=98),\n",
       " Row(roll_no=15, fname='Julie', lname='Plec', total_marks=100),\n",
       " Row(roll_no=6, fname='Ricky', lname='Ponting', total_marks=78),\n",
       " Row(roll_no=9, fname='rishabh', lname='pant', total_marks=89),\n",
       " Row(roll_no=14, fname='Karan', lname='Johar', total_marks=76),\n",
       " Row(roll_no=17, fname='Kat', lname='Graham', total_marks=98),\n",
       " Row(roll_no=12, fname='Andre', lname='agassi', total_marks=99),\n",
       " Row(roll_no=3, fname='emily', lname='bennett', total_marks=88)]"
      ]
     },
     "execution_count": 42,
     "metadata": {},
     "output_type": "execute_result"
    }
   ],
   "source": [
    "query = \"Select * from studentdetails Where total_marks>70 ALLOW FILTERING\"\n",
    "row = session.execute(query)\n",
    "row.all()"
   ]
  },
  {
   "cell_type": "code",
   "execution_count": 43,
   "metadata": {},
   "outputs": [
    {
     "data": {
      "text/plain": [
       "[Row(roll_no=5, fname='Paul', lname='Walker', total_marks=76),\n",
       " Row(roll_no=11, fname='Roger', lname='federer', total_marks=78),\n",
       " Row(roll_no=8, fname='sunil', lname='gawaskar', total_marks=76),\n",
       " Row(roll_no=6, fname='Ricky', lname='Ponting', total_marks=78),\n",
       " Row(roll_no=9, fname='rishabh', lname='pant', total_marks=89),\n",
       " Row(roll_no=14, fname='Karan', lname='Johar', total_marks=76),\n",
       " Row(roll_no=3, fname='emily', lname='bennett', total_marks=88)]"
      ]
     },
     "execution_count": 43,
     "metadata": {},
     "output_type": "execute_result"
    }
   ],
   "source": [
    "query = \"Select * from studentdetails Where total_marks>70 and total_marks<90 ALLOW FILTERING\"\n",
    "row = session.execute(query)\n",
    "row.all()"
   ]
  },
  {
   "cell_type": "markdown",
   "metadata": {},
   "source": [
    "## order by\n",
    "- The Partition Key is responsible for data distribution across your nodes. The Clustering Key is responsible for data sorting within the partition. The Primary Key is equivalent to the Partition Key in a single-field-key table\n",
    "- The partition key must be defined in the WHERE clause and the ORDER BY clause defines the clustering column to use for ordering."
   ]
  },
  {
   "cell_type": "code",
   "execution_count": 51,
   "metadata": {},
   "outputs": [],
   "source": [
    "query = \"Create table order_by_totalmarks(roll_no int, fname text, lname text,total_marks int,category text ,PRIMARY KEY(category,total_marks))\"\n",
    "row = session.execute(query)\n"
   ]
  },
  {
   "cell_type": "code",
   "execution_count": 55,
   "metadata": {},
   "outputs": [
    {
     "name": "stdout",
     "output_type": "stream",
     "text": [
      "18\n"
     ]
    }
   ],
   "source": [
    "query = \"SELECT * from studentdetails\"\n",
    "row= session.execute(query)\n",
    "l = []\n",
    "for i in row:\n",
    "    l.append(i)\n",
    "print(len(l))"
   ]
  },
  {
   "cell_type": "code",
   "execution_count": 56,
   "metadata": {},
   "outputs": [
    {
     "data": {
      "text/plain": [
       "<cassandra.cluster.ResultSet at 0x17bbf57bf70>"
      ]
     },
     "execution_count": 56,
     "metadata": {},
     "output_type": "execute_result"
    }
   ],
   "source": [
    "from cassandra.query import SimpleStatement, BatchStatement\n",
    "batch = BatchStatement()\n",
    "for i in l:\n",
    "    batch.add(SimpleStatement(\"INSERT INTO order_by_totalmarks(roll_no,fname, lname,total_marks,category)values(%s,%s,%s,%s,%s)\"),(i[0],i[1],i[2],i[3],\"ordered\"))\n",
    "session.execute(batch)"
   ]
  },
  {
   "cell_type": "code",
   "execution_count": 57,
   "metadata": {},
   "outputs": [
    {
     "data": {
      "text/plain": [
       "[Row(category='ordered', total_marks=23, fname='James', lname='Lannister', roll_no=20),\n",
       " Row(category='ordered', total_marks=34, fname='asim', lname='akram', roll_no=7),\n",
       " Row(category='ordered', total_marks=45, fname='joeye', lname='john', roll_no=4),\n",
       " Row(category='ordered', total_marks=56, fname='joey', lname='peterson', roll_no=16),\n",
       " Row(category='ordered', total_marks=65, fname='Anurag', lname='kashyap', roll_no=13),\n",
       " Row(category='ordered', total_marks=76, fname='sunil', lname='gawaskar', roll_no=14),\n",
       " Row(category='ordered', total_marks=78, fname='Roger', lname='federer', roll_no=11),\n",
       " Row(category='ordered', total_marks=88, fname='emily', lname='bennett', roll_no=3),\n",
       " Row(category='ordered', total_marks=89, fname='rishabh', lname='pant', roll_no=9),\n",
       " Row(category='ordered', total_marks=98, fname='Sophie', lname='Turner', roll_no=19),\n",
       " Row(category='ordered', total_marks=99, fname='Andre', lname='agassi', roll_no=12),\n",
       " Row(category='ordered', total_marks=100, fname='Julie', lname='Plec', roll_no=15)]"
      ]
     },
     "execution_count": 57,
     "metadata": {},
     "output_type": "execute_result"
    }
   ],
   "source": [
    "query = \"select * from order_by_totalmarks where category = 'ordered' order by total_marks\"\n",
    "row = session.execute(query)\n",
    "row.all()"
   ]
  },
  {
   "cell_type": "markdown",
   "metadata": {},
   "source": [
    "##  AS and LIMIT"
   ]
  },
  {
   "cell_type": "code",
   "execution_count": 58,
   "metadata": {},
   "outputs": [
    {
     "data": {
      "text/plain": [
       "[Row(top5='Julie', total_marks=100),\n",
       " Row(top5='Andre', total_marks=99),\n",
       " Row(top5='Sophie', total_marks=98),\n",
       " Row(top5='rishabh', total_marks=89),\n",
       " Row(top5='emily', total_marks=88)]"
      ]
     },
     "execution_count": 58,
     "metadata": {},
     "output_type": "execute_result"
    }
   ],
   "source": [
    "query = \"select fname AS TOP5 , total_marks from order_by_totalmarks where category = 'ordered' order by total_marks DESC LIMIT 5\"\n",
    "row = session.execute(query)\n",
    "row.all()"
   ]
  },
  {
   "cell_type": "markdown",
   "metadata": {},
   "source": [
    "## Create Index\n",
    "- An index provides a means to access data in Cassandra using attributes other than the partition key. \n",
    "- The benefit is fast, efficient lookup of data matching a given condition. The index indexes column values in a separate, hidden table from the one that contains the values being indexed. \n",
    "- Cassandra has a number of techniques for guarding against the undesirable scenario where data might be incorrectly retrieved during a query involving indexes on the basis of stale values in the index.\n",
    "- Indexes can be used for collections, collection columns, and any other columns except counter columns and static columns."
   ]
  },
  {
   "cell_type": "markdown",
   "metadata": {},
   "source": [
    "### When NOT TO use INDEX\n",
    "- column with high cardinality(large number of unique values) for smaller set of result\n",
    "- column with extremely low cardinality "
   ]
  },
  {
   "cell_type": "code",
   "execution_count": 59,
   "metadata": {},
   "outputs": [
    {
     "data": {
      "text/plain": [
       "<cassandra.cluster.ResultSet at 0x17bbf57bb20>"
      ]
     },
     "execution_count": 59,
     "metadata": {},
     "output_type": "execute_result"
    }
   ],
   "source": [
    "query = \"Create Index firstname on studentdetails(fname)\"\n",
    "session.execute(query)"
   ]
  },
  {
   "cell_type": "code",
   "execution_count": 60,
   "metadata": {},
   "outputs": [
    {
     "ename": "InvalidRequest",
     "evalue": "Error from server: code=2200 [Invalid query] message=\"Index 'firstname' already exists\"",
     "output_type": "error",
     "traceback": [
      "\u001b[1;31m---------------------------------------------------------------------------\u001b[0m",
      "\u001b[1;31mInvalidRequest\u001b[0m                            Traceback (most recent call last)",
      "\u001b[1;32m<ipython-input-60-ef51d6edfb1b>\u001b[0m in \u001b[0;36m<module>\u001b[1;34m\u001b[0m\n\u001b[0;32m      1\u001b[0m \u001b[1;31m#verification\u001b[0m\u001b[1;33m\u001b[0m\u001b[1;33m\u001b[0m\u001b[1;33m\u001b[0m\u001b[0m\n\u001b[0;32m      2\u001b[0m \u001b[0mquery\u001b[0m \u001b[1;33m=\u001b[0m \u001b[1;34m\"Create Index firstname on studentdetails(fname)\"\u001b[0m\u001b[1;33m\u001b[0m\u001b[1;33m\u001b[0m\u001b[0m\n\u001b[1;32m----> 3\u001b[1;33m \u001b[0msession\u001b[0m\u001b[1;33m.\u001b[0m\u001b[0mexecute\u001b[0m\u001b[1;33m(\u001b[0m\u001b[0mquery\u001b[0m\u001b[1;33m)\u001b[0m\u001b[1;33m\u001b[0m\u001b[1;33m\u001b[0m\u001b[0m\n\u001b[0m",
      "\u001b[1;32m~\\anaconda3\\lib\\site-packages\\cassandra\\cluster.cp38-win_amd64.pyd\u001b[0m in \u001b[0;36mcassandra.cluster.Session.execute\u001b[1;34m()\u001b[0m\n",
      "\u001b[1;32m~\\anaconda3\\lib\\site-packages\\cassandra\\cluster.cp38-win_amd64.pyd\u001b[0m in \u001b[0;36mcassandra.cluster.ResponseFuture.result\u001b[1;34m()\u001b[0m\n",
      "\u001b[1;31mInvalidRequest\u001b[0m: Error from server: code=2200 [Invalid query] message=\"Index 'firstname' already exists\""
     ]
    }
   ],
   "source": [
    "#verification\n",
    "query = \"Create Index firstname on studentdetails(fname)\"\n",
    "session.execute(query)"
   ]
  },
  {
   "cell_type": "markdown",
   "metadata": {},
   "source": [
    "### DROP INDEX"
   ]
  },
  {
   "cell_type": "code",
   "execution_count": 61,
   "metadata": {},
   "outputs": [
    {
     "data": {
      "text/plain": [
       "<cassandra.cluster.ResultSet at 0x17bbf57f6a0>"
      ]
     },
     "execution_count": 61,
     "metadata": {},
     "output_type": "execute_result"
    }
   ],
   "source": [
    "query = \"DROP INDEX IF EXISTS student.fname\"\n",
    "session.execute(query)\n"
   ]
  },
  {
   "cell_type": "code",
   "execution_count": 62,
   "metadata": {},
   "outputs": [
    {
     "data": {
      "text/plain": [
       "<cassandra.cluster.ResultSet at 0x17bbf439e20>"
      ]
     },
     "execution_count": 62,
     "metadata": {},
     "output_type": "execute_result"
    }
   ],
   "source": [
    "\n",
    "#verification\n",
    "query = \"DROP INDEX student.firstname\"\n",
    "session.execute(query)"
   ]
  },
  {
   "cell_type": "code",
   "execution_count": null,
   "metadata": {},
   "outputs": [],
   "source": []
  },
  {
   "cell_type": "code",
   "execution_count": null,
   "metadata": {},
   "outputs": [],
   "source": []
  }
 ],
 "metadata": {
  "kernelspec": {
   "display_name": "Python 3",
   "language": "python",
   "name": "python3"
  },
  "language_info": {
   "codemirror_mode": {
    "name": "ipython",
    "version": 3
   },
   "file_extension": ".py",
   "mimetype": "text/x-python",
   "name": "python",
   "nbconvert_exporter": "python",
   "pygments_lexer": "ipython3",
   "version": "3.8.5"
  }
 },
 "nbformat": 4,
 "nbformat_minor": 4
}
