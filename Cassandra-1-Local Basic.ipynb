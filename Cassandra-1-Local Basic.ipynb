{
 "cells": [
  {
   "cell_type": "markdown",
   "metadata": {},
   "source": [
    "## Step1- Install cassandra"
   ]
  },
  {
   "cell_type": "code",
   "execution_count": 1,
   "metadata": {},
   "outputs": [
    {
     "name": "stdout",
     "output_type": "stream",
     "text": [
      "3.25.0\n"
     ]
    }
   ],
   "source": [
    "#!pip install cassandra-driver\n",
    "import cassandra\n",
    "#to check version\n",
    "print(cassandra.__version__)"
   ]
  },
  {
   "cell_type": "markdown",
   "metadata": {},
   "source": [
    "## Step2- Connection with Local Cassandra"
   ]
  },
  {
   "cell_type": "code",
   "execution_count": 2,
   "metadata": {},
   "outputs": [],
   "source": [
    "from cassandra.cluster import Cluster\n",
    "cluster = Cluster()\n",
    "session = cluster.connect()"
   ]
  },
  {
   "cell_type": "markdown",
   "metadata": {},
   "source": [
    "## Step3 - Execute query"
   ]
  },
  {
   "cell_type": "code",
   "execution_count": 3,
   "metadata": {},
   "outputs": [
    {
     "name": "stdout",
     "output_type": "stream",
     "text": [
      "3.11.10\n"
     ]
    }
   ],
   "source": [
    "row = session.execute(\"select release_version from system.local\").one()\n",
    "if row:\n",
    "    print(row[0])\n",
    "else:\n",
    "    print(\"An error occurred.\")"
   ]
  },
  {
   "cell_type": "markdown",
   "metadata": {},
   "source": [
    "### 1. Create Keyspace"
   ]
  },
  {
   "cell_type": "code",
   "execution_count": 4,
   "metadata": {},
   "outputs": [],
   "source": [
    "row = session.execute(\"CREATE KEYSPACE STUDENT WITH replication = {'class':'SimpleStrategy', 'replication_factor' : 3}\").one()"
   ]
  },
  {
   "cell_type": "code",
   "execution_count": 5,
   "metadata": {},
   "outputs": [],
   "source": [
    "row = session.execute(\"CREATE KEYSPACE STUDENT1 WITH replication = {'class':'SimpleStrategy', 'replication_factor' : 3}\").one()"
   ]
  },
  {
   "cell_type": "markdown",
   "metadata": {},
   "source": [
    "### 2. Show Available keyspaces"
   ]
  },
  {
   "cell_type": "code",
   "execution_count": 6,
   "metadata": {},
   "outputs": [
    {
     "name": "stdout",
     "output_type": "stream",
     "text": [
      "student\n",
      "system_auth\n",
      "system_schema\n",
      "system_distributed\n",
      "system\n",
      "system_traces\n",
      "student1\n"
     ]
    }
   ],
   "source": [
    "row = session.execute(\"SELECT * FROM system_schema.keyspaces\")\n",
    "for i in row:\n",
    "    print(i[0])"
   ]
  },
  {
   "cell_type": "markdown",
   "metadata": {},
   "source": [
    "### 3. Drop Keyspace"
   ]
  },
  {
   "cell_type": "code",
   "execution_count": 7,
   "metadata": {},
   "outputs": [],
   "source": [
    "row = session.execute(\"DROP keyspace student1\")"
   ]
  },
  {
   "cell_type": "code",
   "execution_count": 8,
   "metadata": {},
   "outputs": [
    {
     "name": "stdout",
     "output_type": "stream",
     "text": [
      "student\n",
      "system_auth\n",
      "system_schema\n",
      "system_distributed\n",
      "system\n",
      "system_traces\n"
     ]
    }
   ],
   "source": [
    "#verification\n",
    "row = session.execute(\"SELECT * FROM system_schema.keyspaces\")\n",
    "for i in row:\n",
    "    print(i[0])"
   ]
  },
  {
   "cell_type": "markdown",
   "metadata": {},
   "source": [
    "### 4. ALTER KEYSPACE"
   ]
  },
  {
   "cell_type": "code",
   "execution_count": 9,
   "metadata": {},
   "outputs": [],
   "source": [
    "#replication factor from 3 to 1\n",
    "row  =session.execute(\" ALTER KEYSPACE STUDENT WITH replication = {'class':'SimpleStrategy', 'replication_factor' : 1}\")"
   ]
  },
  {
   "cell_type": "code",
   "execution_count": 10,
   "metadata": {},
   "outputs": [
    {
     "name": "stdout",
     "output_type": "stream",
     "text": [
      "Row(keyspace_name='student', durable_writes=True, replication=OrderedMapSerializedKey([('class', 'org.apache.cassandra.locator.SimpleStrategy'), ('replication_factor', '1')]))\n",
      "Row(keyspace_name='system_auth', durable_writes=True, replication=OrderedMapSerializedKey([('class', 'org.apache.cassandra.locator.SimpleStrategy'), ('replication_factor', '1')]))\n",
      "Row(keyspace_name='system_schema', durable_writes=True, replication=OrderedMapSerializedKey([('class', 'org.apache.cassandra.locator.LocalStrategy')]))\n",
      "Row(keyspace_name='system_distributed', durable_writes=True, replication=OrderedMapSerializedKey([('class', 'org.apache.cassandra.locator.SimpleStrategy'), ('replication_factor', '3')]))\n",
      "Row(keyspace_name='system', durable_writes=True, replication=OrderedMapSerializedKey([('class', 'org.apache.cassandra.locator.LocalStrategy')]))\n",
      "Row(keyspace_name='system_traces', durable_writes=True, replication=OrderedMapSerializedKey([('class', 'org.apache.cassandra.locator.SimpleStrategy'), ('replication_factor', '2')]))\n"
     ]
    }
   ],
   "source": [
    "#verification\n",
    "row = session.execute(\"SELECT * FROM system_schema.keyspaces\")\n",
    "for i in row:\n",
    "    print(i)"
   ]
  },
  {
   "cell_type": "markdown",
   "metadata": {},
   "source": [
    "### 5. CREATE TABLE"
   ]
  },
  {
   "cell_type": "code",
   "execution_count": 11,
   "metadata": {},
   "outputs": [],
   "source": [
    "session.execute(\"USE STUDENT\")\n",
    "row = session.execute(\"CREATE TABLE STUDENTDETAILS(roll_no int PRIMARY KEY, fname text, lname text)\")"
   ]
  },
  {
   "cell_type": "code",
   "execution_count": 12,
   "metadata": {},
   "outputs": [],
   "source": [
    "row = session.execute(\"select * from studentdetails\")"
   ]
  },
  {
   "cell_type": "code",
   "execution_count": 13,
   "metadata": {},
   "outputs": [
    {
     "name": "stdout",
     "output_type": "stream",
     "text": [
      "['roll_no', 'fname', 'lname']\n",
      "None\n",
      "['roll_no', 'fname', 'lname'] [<class 'cassandra.cqltypes.Int32Type'>, <class 'cassandra.cqltypes.VarcharType'>, <class 'cassandra.cqltypes.VarcharType'>]\n",
      "('roll_no', <class 'cassandra.cqltypes.Int32Type'>)\n",
      "('fname', <class 'cassandra.cqltypes.VarcharType'>)\n",
      "('lname', <class 'cassandra.cqltypes.VarcharType'>)\n"
     ]
    }
   ],
   "source": [
    "#verification\n",
    "print(row.column_names)\n",
    "print(row.one())\n",
    "print(row.column_names,row.column_types)\n",
    "for i in zip(row.column_names,row.column_types):\n",
    "    print(i)"
   ]
  },
  {
   "cell_type": "code",
   "execution_count": 14,
   "metadata": {},
   "outputs": [],
   "source": [
    "session.execute(\"USE STUDENT\")\n",
    "row = session.execute(\"CREATE TABLE STUDENTDETAILS1(roll_no int PRIMARY KEY, fname text, lname text)\")"
   ]
  },
  {
   "cell_type": "markdown",
   "metadata": {},
   "source": [
    "### 6.Drop Table"
   ]
  },
  {
   "cell_type": "code",
   "execution_count": 15,
   "metadata": {},
   "outputs": [
    {
     "data": {
      "text/plain": [
       "<cassandra.cluster.ResultSet at 0x267dc2df100>"
      ]
     },
     "execution_count": 15,
     "metadata": {},
     "output_type": "execute_result"
    }
   ],
   "source": [
    "session.execute(\"DROP Table studentdetails1\")"
   ]
  },
  {
   "cell_type": "markdown",
   "metadata": {},
   "source": [
    "### 7. Alter Table-add a column"
   ]
  },
  {
   "cell_type": "code",
   "execution_count": 16,
   "metadata": {},
   "outputs": [
    {
     "data": {
      "text/plain": [
       "<cassandra.cluster.ResultSet at 0x267daabbd00>"
      ]
     },
     "execution_count": 16,
     "metadata": {},
     "output_type": "execute_result"
    }
   ],
   "source": [
    "session.execute(\"use student\")\n",
    "session.execute(\"ALTER TABLE studentdetails ADD contact_no int\")"
   ]
  },
  {
   "cell_type": "code",
   "execution_count": 17,
   "metadata": {},
   "outputs": [
    {
     "name": "stdout",
     "output_type": "stream",
     "text": [
      "['roll_no', 'contact_no', 'fname', 'lname']\n"
     ]
    }
   ],
   "source": [
    "#verification\n",
    "row = session.execute(\"select * from studentdetails\")\n",
    "print(row.column_names)"
   ]
  },
  {
   "cell_type": "markdown",
   "metadata": {},
   "source": [
    "### 8. Alter Table-drop a column"
   ]
  },
  {
   "cell_type": "code",
   "execution_count": 18,
   "metadata": {},
   "outputs": [
    {
     "data": {
      "text/plain": [
       "<cassandra.cluster.ResultSet at 0x267dc2cbf10>"
      ]
     },
     "execution_count": 18,
     "metadata": {},
     "output_type": "execute_result"
    }
   ],
   "source": [
    "session.execute(\"use student\")\n",
    "session.execute(\"ALTER TABLE studentdetails drop contact_no \")"
   ]
  },
  {
   "cell_type": "code",
   "execution_count": 19,
   "metadata": {},
   "outputs": [
    {
     "name": "stdout",
     "output_type": "stream",
     "text": [
      "['roll_no', 'fname', 'lname']\n"
     ]
    }
   ],
   "source": [
    "#verification\n",
    "row = session.execute(\"select * from studentdetails\")\n",
    "print(row.column_names)"
   ]
  },
  {
   "cell_type": "markdown",
   "metadata": {},
   "source": [
    "### 9. Insert data"
   ]
  },
  {
   "cell_type": "code",
   "execution_count": 20,
   "metadata": {},
   "outputs": [
    {
     "data": {
      "text/plain": [
       "<cassandra.cluster.ResultSet at 0x267dc2790a0>"
      ]
     },
     "execution_count": 20,
     "metadata": {},
     "output_type": "execute_result"
    }
   ],
   "source": [
    "query = \"INSERT INTO studentdetails(roll_no,fname,lname)values(1,'joe','peterson')\"\n",
    "session.execute(query)"
   ]
  },
  {
   "cell_type": "code",
   "execution_count": 21,
   "metadata": {},
   "outputs": [
    {
     "data": {
      "text/plain": [
       "<cassandra.cluster.ResultSet at 0x267dc2e4c10>"
      ]
     },
     "execution_count": 21,
     "metadata": {},
     "output_type": "execute_result"
    }
   ],
   "source": [
    "query = \"INSERT INTO studentdetails(roll_no,fname,lname)values(2,'mathew','forbes')\"\n",
    "session.execute(query)"
   ]
  },
  {
   "cell_type": "code",
   "execution_count": 22,
   "metadata": {},
   "outputs": [
    {
     "data": {
      "text/plain": [
       "<cassandra.cluster.ResultSet at 0x267dc2be160>"
      ]
     },
     "execution_count": 22,
     "metadata": {},
     "output_type": "execute_result"
    }
   ],
   "source": [
    "query = \"INSERT INTO studentdetails(roll_no,fname,lname)values(3,'emily','bennett')\"\n",
    "session.execute(query)"
   ]
  },
  {
   "cell_type": "code",
   "execution_count": 23,
   "metadata": {},
   "outputs": [
    {
     "name": "stdout",
     "output_type": "stream",
     "text": [
      "Row(roll_no=1, fname='joe', lname='peterson')\n",
      "Row(roll_no=2, fname='mathew', lname='forbes')\n",
      "Row(roll_no=3, fname='emily', lname='bennett')\n"
     ]
    }
   ],
   "source": [
    "#verification\n",
    "row = session.execute(\"select * from studentdetails\")\n",
    "for i in row.all():\n",
    "    print(i)   "
   ]
  },
  {
   "cell_type": "code",
   "execution_count": 24,
   "metadata": {},
   "outputs": [
    {
     "data": {
      "text/plain": [
       "[Row(roll_no=1, fname='joe'),\n",
       " Row(roll_no=2, fname='mathew'),\n",
       " Row(roll_no=3, fname='emily')]"
      ]
     },
     "execution_count": 24,
     "metadata": {},
     "output_type": "execute_result"
    }
   ],
   "source": [
    "row = session.execute(\"select roll_no,fname from studentdetails\")\n",
    "row.all()"
   ]
  },
  {
   "cell_type": "markdown",
   "metadata": {},
   "source": [
    "### 10.Truncate Table"
   ]
  },
  {
   "cell_type": "code",
   "execution_count": 25,
   "metadata": {},
   "outputs": [
    {
     "data": {
      "text/plain": [
       "<cassandra.cluster.ResultSet at 0x267dc32f2e0>"
      ]
     },
     "execution_count": 25,
     "metadata": {},
     "output_type": "execute_result"
    }
   ],
   "source": [
    "session.execute(\"Use student\")\n",
    "query = \"Truncate studentdetails\"\n",
    "session.execute(query)"
   ]
  },
  {
   "cell_type": "code",
   "execution_count": 26,
   "metadata": {},
   "outputs": [
    {
     "data": {
      "text/plain": [
       "[]"
      ]
     },
     "execution_count": 26,
     "metadata": {},
     "output_type": "execute_result"
    }
   ],
   "source": [
    "#verification\n",
    "row = session.execute(\"select * from studentdetails\")\n",
    "row.all()"
   ]
  },
  {
   "cell_type": "markdown",
   "metadata": {},
   "source": [
    "### 11. Create Index"
   ]
  },
  {
   "cell_type": "code",
   "execution_count": 27,
   "metadata": {},
   "outputs": [
    {
     "data": {
      "text/plain": [
       "<cassandra.cluster.ResultSet at 0x267dc32cc10>"
      ]
     },
     "execution_count": 27,
     "metadata": {},
     "output_type": "execute_result"
    }
   ],
   "source": [
    "query = \"Create Index firstname on studentdetails(fname)\"\n",
    "session.execute(query)"
   ]
  },
  {
   "cell_type": "code",
   "execution_count": 28,
   "metadata": {},
   "outputs": [
    {
     "ename": "InvalidRequest",
     "evalue": "Error from server: code=2200 [Invalid query] message=\"Index firstname already exists\"",
     "output_type": "error",
     "traceback": [
      "\u001b[1;31m---------------------------------------------------------------------------\u001b[0m",
      "\u001b[1;31mInvalidRequest\u001b[0m                            Traceback (most recent call last)",
      "\u001b[1;32m<ipython-input-28-ef51d6edfb1b>\u001b[0m in \u001b[0;36m<module>\u001b[1;34m\u001b[0m\n\u001b[0;32m      1\u001b[0m \u001b[1;31m#verification\u001b[0m\u001b[1;33m\u001b[0m\u001b[1;33m\u001b[0m\u001b[1;33m\u001b[0m\u001b[0m\n\u001b[0;32m      2\u001b[0m \u001b[0mquery\u001b[0m \u001b[1;33m=\u001b[0m \u001b[1;34m\"Create Index firstname on studentdetails(fname)\"\u001b[0m\u001b[1;33m\u001b[0m\u001b[1;33m\u001b[0m\u001b[0m\n\u001b[1;32m----> 3\u001b[1;33m \u001b[0msession\u001b[0m\u001b[1;33m.\u001b[0m\u001b[0mexecute\u001b[0m\u001b[1;33m(\u001b[0m\u001b[0mquery\u001b[0m\u001b[1;33m)\u001b[0m\u001b[1;33m\u001b[0m\u001b[1;33m\u001b[0m\u001b[0m\n\u001b[0m",
      "\u001b[1;32m~\\anaconda3\\lib\\site-packages\\cassandra\\cluster.cp38-win_amd64.pyd\u001b[0m in \u001b[0;36mcassandra.cluster.Session.execute\u001b[1;34m()\u001b[0m\n",
      "\u001b[1;32m~\\anaconda3\\lib\\site-packages\\cassandra\\cluster.cp38-win_amd64.pyd\u001b[0m in \u001b[0;36mcassandra.cluster.ResponseFuture.result\u001b[1;34m()\u001b[0m\n",
      "\u001b[1;31mInvalidRequest\u001b[0m: Error from server: code=2200 [Invalid query] message=\"Index firstname already exists\""
     ]
    }
   ],
   "source": [
    "#verification\n",
    "query = \"Create Index firstname on studentdetails(fname)\"\n",
    "session.execute(query)"
   ]
  },
  {
   "cell_type": "markdown",
   "metadata": {},
   "source": [
    "### 12. Drop Index"
   ]
  },
  {
   "cell_type": "code",
   "execution_count": 29,
   "metadata": {},
   "outputs": [
    {
     "data": {
      "text/plain": [
       "<cassandra.cluster.ResultSet at 0x267dc2ece20>"
      ]
     },
     "execution_count": 29,
     "metadata": {},
     "output_type": "execute_result"
    }
   ],
   "source": [
    "query = \"DROP INDEX IF EXISTS student.firstname\"\n",
    "session.execute(query)"
   ]
  },
  {
   "cell_type": "code",
   "execution_count": 30,
   "metadata": {},
   "outputs": [
    {
     "ename": "InvalidRequest",
     "evalue": "Error from server: code=2200 [Invalid query] message=\"Index 'fname' could not be found in any of the tables of keyspace 'student'\"",
     "output_type": "error",
     "traceback": [
      "\u001b[1;31m---------------------------------------------------------------------------\u001b[0m",
      "\u001b[1;31mInvalidRequest\u001b[0m                            Traceback (most recent call last)",
      "\u001b[1;32m<ipython-input-30-a57a463e48c8>\u001b[0m in \u001b[0;36m<module>\u001b[1;34m\u001b[0m\n\u001b[0;32m      1\u001b[0m \u001b[1;31m#verification\u001b[0m\u001b[1;33m\u001b[0m\u001b[1;33m\u001b[0m\u001b[1;33m\u001b[0m\u001b[0m\n\u001b[0;32m      2\u001b[0m \u001b[0mquery\u001b[0m \u001b[1;33m=\u001b[0m \u001b[1;34m\"DROP INDEX student.fname\"\u001b[0m\u001b[1;33m\u001b[0m\u001b[1;33m\u001b[0m\u001b[0m\n\u001b[1;32m----> 3\u001b[1;33m \u001b[0msession\u001b[0m\u001b[1;33m.\u001b[0m\u001b[0mexecute\u001b[0m\u001b[1;33m(\u001b[0m\u001b[0mquery\u001b[0m\u001b[1;33m)\u001b[0m\u001b[1;33m\u001b[0m\u001b[1;33m\u001b[0m\u001b[0m\n\u001b[0m",
      "\u001b[1;32m~\\anaconda3\\lib\\site-packages\\cassandra\\cluster.cp38-win_amd64.pyd\u001b[0m in \u001b[0;36mcassandra.cluster.Session.execute\u001b[1;34m()\u001b[0m\n",
      "\u001b[1;32m~\\anaconda3\\lib\\site-packages\\cassandra\\cluster.cp38-win_amd64.pyd\u001b[0m in \u001b[0;36mcassandra.cluster.ResponseFuture.result\u001b[1;34m()\u001b[0m\n",
      "\u001b[1;31mInvalidRequest\u001b[0m: Error from server: code=2200 [Invalid query] message=\"Index 'fname' could not be found in any of the tables of keyspace 'student'\""
     ]
    }
   ],
   "source": [
    "#verification\n",
    "query = \"DROP INDEX student.fname\"\n",
    "session.execute(query)"
   ]
  },
  {
   "cell_type": "raw",
   "metadata": {},
   "source": [
    "Populating studentdetails table"
   ]
  },
  {
   "cell_type": "code",
   "execution_count": null,
   "metadata": {},
   "outputs": [],
   "source": [
    "query = \"USE student\"\n",
    "session.execute(query)\n",
    "query = \"INSERT INTO studentdetails(roll_no,fname,lname)values(1,'joe','peterson')\"\n",
    "session.execute(query)\n",
    "query = \"INSERT INTO studentdetails(roll_no,fname,lname)values(2,'mathew','forbes')\"\n",
    "session.execute(query)\n",
    "query = \"INSERT INTO studentdetails(roll_no,fname,lname)values(3,'emily','bennett')\"\n",
    "session.execute(query)"
   ]
  },
  {
   "cell_type": "markdown",
   "metadata": {},
   "source": [
    "### 13. Update "
   ]
  },
  {
   "cell_type": "code",
   "execution_count": null,
   "metadata": {},
   "outputs": [],
   "source": [
    "query = \"UPDATE studentdetails SET lname = 'clarks' where roll_no=2\"\n",
    "session.execute(query)"
   ]
  },
  {
   "cell_type": "code",
   "execution_count": null,
   "metadata": {},
   "outputs": [],
   "source": [
    "#verification\n",
    "query = \"Select * from studentdetails\"\n",
    "row= session.execute(query)\n",
    "row.all()"
   ]
  },
  {
   "cell_type": "markdown",
   "metadata": {},
   "source": [
    "### 13.Batch\n",
    "- BATCH is used to execute multiple modification statements (insert, update, delete) simultaneously. It is very useful when you have to update some column as well as delete some of the existing.\n",
    "-  only create, update, and delete rows with a batch query, attempting to read rows out of the database with a batch query will fail."
   ]
  },
  {
   "cell_type": "code",
   "execution_count": 31,
   "metadata": {},
   "outputs": [
    {
     "data": {
      "text/plain": [
       "<cassandra.cluster.ResultSet at 0x267dc338070>"
      ]
     },
     "execution_count": 31,
     "metadata": {},
     "output_type": "execute_result"
    }
   ],
   "source": [
    "session.execute(\"USE STUDENT\")\n",
    "query = \"BEGIN BATCH INSERT INTO studentdetails(roll_no,fname,lname) values(4,'joeye','john');\" + \" UPDATE studentdetails SET fname = 'joey' where roll_no = 1;\" + \"DELETE FROM studentdetails WHERE roll_no = 2;\" +   \"APPLY BATCH;\"\n",
    "session.execute(query)"
   ]
  },
  {
   "cell_type": "code",
   "execution_count": 32,
   "metadata": {},
   "outputs": [
    {
     "data": {
      "text/plain": [
       "[Row(roll_no=1, fname='joey', lname=None),\n",
       " Row(roll_no=4, fname='joeye', lname='john')]"
      ]
     },
     "execution_count": 32,
     "metadata": {},
     "output_type": "execute_result"
    }
   ],
   "source": [
    "query = \"SELECT * from studentdetails\"\n",
    "row= session.execute(query)\n",
    "row.all()"
   ]
  },
  {
   "cell_type": "code",
   "execution_count": 33,
   "metadata": {},
   "outputs": [
    {
     "data": {
      "text/plain": [
       "<cassandra.cluster.ResultSet at 0x267daacddf0>"
      ]
     },
     "execution_count": 33,
     "metadata": {},
     "output_type": "execute_result"
    }
   ],
   "source": [
    "query = \"BEGIN BATCH INSERT INTO studentdetails(roll_no,fname,lname)values(5,'Paul', 'Walker')\" + \"INSERT INTO studentdetails(roll_no,fname,lname)values(6, 'Ricky', 'Ponting')\" + \"INSERT INTO studentdetails(roll_no,fname,lname)values(7,'asim','akram')\" + \"INSERT INTO studentdetails(roll_no,fname,lname)values(8,'sunil', 'gawaskar')\" + \"APPLY BATCH;\"\n",
    "session.execute(query)"
   ]
  },
  {
   "cell_type": "code",
   "execution_count": 34,
   "metadata": {},
   "outputs": [
    {
     "data": {
      "text/plain": [
       "[Row(roll_no=5, fname='Paul', lname='Walker'),\n",
       " Row(roll_no=1, fname='joey', lname=None),\n",
       " Row(roll_no=8, fname='sunil', lname='gawaskar'),\n",
       " Row(roll_no=4, fname='joeye', lname='john'),\n",
       " Row(roll_no=7, fname='asim', lname='akram'),\n",
       " Row(roll_no=6, fname='Ricky', lname='Ponting')]"
      ]
     },
     "execution_count": 34,
     "metadata": {},
     "output_type": "execute_result"
    }
   ],
   "source": [
    "query = \"SELECT * from studentdetails\"\n",
    "row= session.execute(query)\n",
    "row.all()"
   ]
  },
  {
   "cell_type": "code",
   "execution_count": 35,
   "metadata": {},
   "outputs": [
    {
     "name": "stdout",
     "output_type": "stream",
     "text": [
      "Enter roll_no here:11\n",
      "Enter firstname here:Hussain\n",
      "Enter Lastname here: Bolt\n"
     ]
    },
    {
     "data": {
      "text/plain": [
       "<cassandra.cluster.ResultSet at 0x267dc2f9640>"
      ]
     },
     "execution_count": 35,
     "metadata": {},
     "output_type": "execute_result"
    }
   ],
   "source": [
    "a1=int(input(\"Enter roll_no here:\"))\n",
    "b1=input(\"Enter firstname here:\")\n",
    "c1=input(\"Enter Lastname here: \")\n",
    "data= (a1,b1,c1)\n",
    "query = \"INSERT INTO studentdetails(roll_no,fname,lname)values(%s,%s,%s);\" \n",
    "session.execute(query,data)"
   ]
  },
  {
   "cell_type": "code",
   "execution_count": 36,
   "metadata": {},
   "outputs": [],
   "source": [
    "def insertcommand(rollno,firstname,lastname):\n",
    "    rollno = int(rollno)\n",
    "    try:\n",
    "        data= (rollno,firstname,lastname)\n",
    "        query = \"INSERT INTO studentdetails(roll_no,fname,lname)values(%s,%s,%s);\" \n",
    "        session.execute(query,data)\n",
    "    except:\n",
    "        print(\"Cant be inserted\")\n",
    "    \n",
    "insertcommand(9,'rishabh','pant')\n",
    "    "
   ]
  },
  {
   "cell_type": "code",
   "execution_count": 37,
   "metadata": {},
   "outputs": [
    {
     "data": {
      "text/plain": [
       "[Row(roll_no=5, fname='Paul', lname='Walker'),\n",
       " Row(roll_no=11, fname='Hussain', lname='Bolt'),\n",
       " Row(roll_no=1, fname='joey', lname=None),\n",
       " Row(roll_no=8, fname='sunil', lname='gawaskar'),\n",
       " Row(roll_no=4, fname='joeye', lname='john'),\n",
       " Row(roll_no=7, fname='asim', lname='akram'),\n",
       " Row(roll_no=6, fname='Ricky', lname='Ponting'),\n",
       " Row(roll_no=9, fname='rishabh', lname='pant')]"
      ]
     },
     "execution_count": 37,
     "metadata": {},
     "output_type": "execute_result"
    }
   ],
   "source": [
    "query = \"SELECT * from studentdetails\"\n",
    "row= session.execute(query)\n",
    "row.all()"
   ]
  },
  {
   "cell_type": "markdown",
   "metadata": {},
   "source": [
    "## ALLOW FILTERING"
   ]
  },
  {
   "cell_type": "code",
   "execution_count": 39,
   "metadata": {},
   "outputs": [
    {
     "data": {
      "text/plain": [
       "[Row(roll_no=11, fname='Hussain', lname='Bolt'),\n",
       " Row(roll_no=8, fname='sunil', lname='gawaskar'),\n",
       " Row(roll_no=9, fname='rishabh', lname='pant')]"
      ]
     },
     "execution_count": 39,
     "metadata": {},
     "output_type": "execute_result"
    }
   ],
   "source": [
    "query = \"Select * from studentdetails Where roll_no>7 ALLOW FILTERING\"\n",
    "row = session.execute(query)\n",
    "row.all()"
   ]
  },
  {
   "cell_type": "code",
   "execution_count": null,
   "metadata": {},
   "outputs": [],
   "source": []
  },
  {
   "cell_type": "code",
   "execution_count": null,
   "metadata": {},
   "outputs": [],
   "source": []
  },
  {
   "cell_type": "code",
   "execution_count": 40,
   "metadata": {},
   "outputs": [],
   "source": [
    "session.shutdown()"
   ]
  },
  {
   "cell_type": "code",
   "execution_count": null,
   "metadata": {},
   "outputs": [],
   "source": []
  }
 ],
 "metadata": {
  "kernelspec": {
   "display_name": "Python 3",
   "language": "python",
   "name": "python3"
  },
  "language_info": {
   "codemirror_mode": {
    "name": "ipython",
    "version": 3
   },
   "file_extension": ".py",
   "mimetype": "text/x-python",
   "name": "python",
   "nbconvert_exporter": "python",
   "pygments_lexer": "ipython3",
   "version": "3.8.5"
  }
 },
 "nbformat": 4,
 "nbformat_minor": 4
}
